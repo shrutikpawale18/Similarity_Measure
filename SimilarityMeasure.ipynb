{
  "nbformat": 4,
  "nbformat_minor": 0,
  "metadata": {
    "colab": {
      "provenance": [],
      "authorship_tag": "ABX9TyMPYAitLTdBXM4rZSle5Qnc",
      "include_colab_link": true
    },
    "kernelspec": {
      "name": "python3",
      "display_name": "Python 3"
    },
    "language_info": {
      "name": "python"
    }
  },
  "cells": [
    {
      "cell_type": "markdown",
      "metadata": {
        "id": "view-in-github",
        "colab_type": "text"
      },
      "source": [
        "<a href=\"https://colab.research.google.com/github/shrutikpawale18/Similarity_Measure/blob/main/SimilarityMeasure.ipynb\" target=\"_parent\"><img src=\"https://colab.research.google.com/assets/colab-badge.svg\" alt=\"Open In Colab\"/></a>"
      ]
    },
    {
      "cell_type": "code",
      "execution_count": 12,
      "metadata": {
        "id": "gFPkjL6_TTDz"
      },
      "outputs": [],
      "source": [
        "text_1 = f\"The easiest way to earn points with Fetch Rewards is to just shop for the products you already love. If you have any participating brands on your receipt, you'll get points based on the cost of the products. You don't need to clip any coupons or scan individual barcodes. Just scan each grocery receipt after you shop and we'll find the savings for you.\"\n",
        "\n",
        "text_2 = f\"The easiest way to earn points with Fetch Rewards is to just shop for the items you already buy. If you have any eligible brands on your receipt, you will get points based on the total cost of the products. You do not need to cut out any coupons or scan individual UPCs. Just scan your receipt after you check out and we will find the savings for you.\"\n",
        "\n",
        "text_3 = f\"We are always looking for opportunities for you to earn more points, which is why we also give you a selection of Special Offers. These Special Offers are opportunities to earn bonus points on top of the regular points you earn every time you purchase a participating brand. No need to pre-select these offers, we'll give you the points whether or not you knew about the offer. We just think it is easier that way.\""
      ]
    },
    {
      "cell_type": "code",
      "source": [
        "import math\n",
        "\n",
        "class TFIDFVectorizer:\n",
        "    def __init__(self, *texts):\n",
        "        self.documents = [self.text_to_words(text) for text in texts]\n",
        "        self.tf_dicts = [self.calculate_tf(doc) for doc in self.documents]\n",
        "        self.idf_dict = self.calculate_idf(self.documents)\n",
        "        self.tfidf_vectors = [self.vectorize(doc, self.idf_dict) for doc in self.tf_dicts]\n",
        "\n",
        "    def text_to_words(self, text):\n",
        "        words = []\n",
        "        current_word = ''\n",
        "        for char in text:\n",
        "            if char != \" \":\n",
        "                current_word += char\n",
        "            else:\n",
        "                words.append(current_word.lower())\n",
        "                current_word = ''\n",
        "        words.append(current_word.lower())  # Append the last word\n",
        "        return words\n",
        "\n",
        "    def calculate_tf(self, words):\n",
        "        word_count = {}\n",
        "        for word in words:\n",
        "            word_count[word] = word_count.get(word, 0) + 1\n",
        "\n",
        "        total_words = len(words)\n",
        "        tf_dict = {word: count / total_words for word, count in word_count.items()}\n",
        "        return tf_dict\n",
        "\n",
        "    def calculate_idf(self, documents):\n",
        "        total_documents = len(documents)\n",
        "        word_document_count = {}\n",
        "\n",
        "        for document in documents:\n",
        "            for word in set(document):\n",
        "                word_document_count[word] = word_document_count.get(word, 0) + 1\n",
        "\n",
        "        idf_dict = {word: math.log(total_documents / count) for word, count in word_document_count.items()}\n",
        "        return idf_dict\n",
        "\n",
        "    def vectorize(self, tf_dict, idf_dict):\n",
        "        return [tf_dict[word] * idf_dict[word] for word in tf_dict]\n",
        "\n",
        "\n",
        "tfidf_vectorizer = TFIDFVectorizer(text_1, text_2, text_3)\n",
        "\n",
        "# Access TF-IDF vectors for each text\n",
        "tfidf_text1 = tfidf_vectorizer.tfidf_vectors[0]\n",
        "tfidf_text2 = tfidf_vectorizer.tfidf_vectors[1]\n",
        "tfidf_text3 = tfidf_vectorizer.tfidf_vectors[2]"
      ],
      "metadata": {
        "id": "eMwxurRFTTqb"
      },
      "execution_count": 13,
      "outputs": []
    },
    {
      "cell_type": "code",
      "source": [
        "import math\n",
        "\n",
        "class CosineSimilarity:\n",
        "    def __init__(self, vec1, vec2):\n",
        "        self.vec1 = vec1\n",
        "        self.vec2 = vec2\n",
        "\n",
        "    def dot_product(self):\n",
        "        return sum(x * y for x, y in zip(self.vec1, self.vec2))\n",
        "\n",
        "    def magnitude(self, vec):\n",
        "        return math.sqrt(sum(x ** 2 for x in vec))\n",
        "\n",
        "    def calculate_similarity(self):\n",
        "        dot_prod = self.dot_product()\n",
        "        mag_vec1 = self.magnitude(self.vec1)\n",
        "        mag_vec2 = self.magnitude(self.vec2)\n",
        "\n",
        "        if mag_vec1 == 0 or mag_vec2 == 0:\n",
        "            return 0  # To handle division by zero\n",
        "\n",
        "        return dot_prod / (mag_vec1 * mag_vec2)\n",
        "\n",
        "\n",
        "# Create an instance of CosineSimilarity\n",
        "cosine_similarity_calculator_1_2 = CosineSimilarity(tfidf_text1, tfidf_text2)\n",
        "cosine_similarity_calculator_1_3 = CosineSimilarity(tfidf_text1, tfidf_text3)\n",
        "\n",
        "# Calculate cosine similarity\n",
        "similarity_1_2 = cosine_similarity_calculator_1_2.calculate_similarity()\n",
        "similarity_1_3 = cosine_similarity_calculator_1_3.calculate_similarity()\n",
        "\n",
        "# Print the similarity\n",
        "print(f\"Cosine Similarity between 1 and 2: {similarity_1_2}\")\n",
        "print(f\"Cosine Similarity between 1 and 3: {similarity_1_3}\")"
      ],
      "metadata": {
        "colab": {
          "base_uri": "https://localhost:8080/"
        },
        "id": "yo29qS7JTVEB",
        "outputId": "6d741163-0c8d-430c-e3b4-a30dd2e94c0a"
      },
      "execution_count": 15,
      "outputs": [
        {
          "output_type": "stream",
          "name": "stdout",
          "text": [
            "Cosine Similarity between 1 and 2: 0.7449676327257305\n",
            "Cosine Similarity between 1 and 3: 0.6308880817004958\n"
          ]
        }
      ]
    },
    {
      "cell_type": "code",
      "source": [],
      "metadata": {
        "id": "6SEEh2R8TbR3"
      },
      "execution_count": 14,
      "outputs": []
    }
  ]
}